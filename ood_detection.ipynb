{
  "nbformat": 4,
  "nbformat_minor": 0,
  "metadata": {
    "colab": {
      "name": "ood_detection.ipynb",
      "provenance": [],
      "collapsed_sections": [],
      "toc_visible": true
    },
    "kernelspec": {
      "name": "python3",
      "display_name": "Python 3"
    },
    "accelerator": "GPU"
  },
  "cells": [
    {
      "cell_type": "markdown",
      "metadata": {
        "id": "YcKaHGQ7eWi5",
        "colab_type": "text"
      },
      "source": [
        "# prepare data"
      ]
    },
    {
      "cell_type": "code",
      "metadata": {
        "id": "DoWWOpROXP40",
        "colab_type": "code",
        "colab": {}
      },
      "source": [
        "import os\n",
        "\n",
        "import numpy as np\n",
        "from sklearn.model_selection import train_test_split\n",
        "import matplotlib.pyplot as plt\n",
        "from matplotlib.colors import Normalize"
      ],
      "execution_count": 0,
      "outputs": []
    },
    {
      "cell_type": "code",
      "metadata": {
        "id": "8Fm7gYiiYMJW",
        "colab_type": "code",
        "colab": {}
      },
      "source": [
        "def gen_normal_distribution(mu, sigma, size, range=(0, 1), max_val=1):\n",
        "  bins = np.linspace(*range, size)\n",
        "  result = 1 / (sigma * np.sqrt(2*np.pi)) * np.exp(-(bins - mu)**2 / (2*sigma**2))\n",
        "\n",
        "  cur_max_val = result.max()\n",
        "  k = max_val / cur_max_val\n",
        "\n",
        "  result *= k\n",
        "\n",
        "  return result"
      ],
      "execution_count": 0,
      "outputs": []
    },
    {
      "cell_type": "code",
      "metadata": {
        "id": "rTX7czF5XYIW",
        "colab_type": "code",
        "colab": {}
      },
      "source": [
        "dist = gen_normal_distribution(0.3, 0.05, 256, max_val=1)"
      ],
      "execution_count": 0,
      "outputs": []
    },
    {
      "cell_type": "code",
      "metadata": {
        "id": "7dPpOZitZPOt",
        "colab_type": "code",
        "outputId": "84ef8ff1-03b6-4bc3-d2de-aad0778087c9",
        "colab": {
          "base_uri": "https://localhost:8080/",
          "height": 34
        }
      },
      "source": [
        "dist.max()"
      ],
      "execution_count": 4,
      "outputs": [
        {
          "output_type": "execute_result",
          "data": {
            "text/plain": [
              "1.0"
            ]
          },
          "metadata": {
            "tags": []
          },
          "execution_count": 4
        }
      ]
    },
    {
      "cell_type": "code",
      "metadata": {
        "id": "fOjdisrfXzyf",
        "colab_type": "code",
        "outputId": "8ba102a2-31a2-498f-e30a-e68df1769305",
        "colab": {
          "base_uri": "https://localhost:8080/",
          "height": 282
        }
      },
      "source": [
        "plt.plot(np.linspace(0, 1, 256), dist)"
      ],
      "execution_count": 5,
      "outputs": [
        {
          "output_type": "execute_result",
          "data": {
            "text/plain": [
              "[<matplotlib.lines.Line2D at 0x7f9a35664be0>]"
            ]
          },
          "metadata": {
            "tags": []
          },
          "execution_count": 5
        },
        {
          "output_type": "display_data",
          "data": {
            "image/png": "[encoded data removed]",
            "text/plain": [
              "<Figure size 432x288 with 1 Axes>"
            ]
          },
          "metadata": {
            "tags": []
          }
        }
      ]
    },
    {
      "cell_type": "code",
      "metadata": {
        "id": "VddBU5fxZ-cN",
        "colab_type": "code",
        "colab": {}
      },
      "source": [
        "in_distribution_size = 2000\n",
        "out_distribution_size = 200\n",
        "val_size = 100\n",
        "sample_size = 256\n",
        "\n",
        "random_generator = np.random.RandomState(seed=42)"
      ],
      "execution_count": 0,
      "outputs": []
    },
    {
      "cell_type": "code",
      "metadata": {
        "id": "Ora_rvYnX8gf",
        "colab_type": "code",
        "colab": {}
      },
      "source": [
        "def generate_in_samples(size, sample_size):\n",
        "  global random_generator\n",
        "\n",
        "  in_samples = np.zeros((size, sample_size))\n",
        "\n",
        "  in_mus = random_generator.uniform(0.1, 0.9, size)\n",
        "  in_sigmas = random_generator.uniform(0.05, 0.5, size)\n",
        "\n",
        "  for i in range(size):\n",
        "    in_samples[i] = gen_normal_distribution(in_mus[i], in_sigmas[i], sample_size, max_val=1)\n",
        "  \n",
        "  return in_samples\n",
        "\n",
        "\n",
        "def generate_out_samples(size, sample_size):\n",
        "  global random_generator\n",
        "\n",
        "  out_samples = generate_in_samples(size, sample_size)\n",
        "\n",
        "  out_additional_mus = random_generator.uniform(0.1, 0.9, size)\n",
        "  out_additional_sigmas = random_generator.uniform(0.01, 0.05, size)\n",
        "\n",
        "  for i in range(size):\n",
        "    anomaly = gen_normal_distribution(out_additional_mus[i], out_additional_sigmas[i], sample_size, max_val=0.12)\n",
        "    out_samples[i] += anomaly\n",
        "  \n",
        "  return out_samples"
      ],
      "execution_count": 0,
      "outputs": []
    },
    {
      "cell_type": "code",
      "metadata": {
        "id": "-Q9zTayveX90",
        "colab_type": "code",
        "colab": {}
      },
      "source": [
        "in_samples = generate_in_samples(in_distribution_size, sample_size)"
      ],
      "execution_count": 0,
      "outputs": []
    },
    {
      "cell_type": "code",
      "metadata": {
        "id": "kn9tQCv4bOWX",
        "colab_type": "code",
        "outputId": "7483fb0d-c132-490f-e268-36accc268d36",
        "colab": {
          "base_uri": "https://localhost:8080/",
          "height": 282
        }
      },
      "source": [
        "plt.plot(np.linspace(0, 1, sample_size), in_samples[42])"
      ],
      "execution_count": 9,
      "outputs": [
        {
          "output_type": "execute_result",
          "data": {
            "text/plain": [
              "[<matplotlib.lines.Line2D at 0x7f9a3513b358>]"
            ]
          },
          "metadata": {
            "tags": []
          },
          "execution_count": 9
        },
        {
          "output_type": "display_data",
          "data": {
            "image/png": "[encoded data removed]",
            "text/plain": [
              "<Figure size 432x288 with 1 Axes>"
            ]
          },
          "metadata": {
            "tags": []
          }
        }
      ]
    },
    {
      "cell_type": "code",
      "metadata": {
        "id": "sWN0kmsWrfZF",
        "colab_type": "code",
        "colab": {}
      },
      "source": [
        "out_samples = generate_out_samples(out_distribution_size, sample_size)"
      ],
      "execution_count": 0,
      "outputs": []
    },
    {
      "cell_type": "code",
      "metadata": {
        "id": "Z4LN4m6WeHDq",
        "colab_type": "code",
        "outputId": "cb3606e6-2c66-4e7b-f288-a92a9a4ef747",
        "colab": {
          "base_uri": "https://localhost:8080/",
          "height": 282
        }
      },
      "source": [
        "plt.plot(np.linspace(0, 1, sample_size), out_samples[42])"
      ],
      "execution_count": 11,
      "outputs": [
        {
          "output_type": "execute_result",
          "data": {
            "text/plain": [
              "[<matplotlib.lines.Line2D at 0x7f9a3509cc50>]"
            ]
          },
          "metadata": {
            "tags": []
          },
          "execution_count": 11
        },
        {
          "output_type": "display_data",
          "data": {
            "image/png": "[encoded data removed]",
            "text/plain": [
              "<Figure size 432x288 with 1 Axes>"
            ]
          },
          "metadata": {
            "tags": []
          }
        }
      ]
    },
    {
      "cell_type": "code",
      "metadata": {
        "id": "vRVc-QaLedMy",
        "colab_type": "code",
        "colab": {}
      },
      "source": [
        "x = np.concatenate((in_samples, out_samples))\n",
        "y = np.concatenate((np.zeros(in_distribution_size), np.ones(out_distribution_size)))"
      ],
      "execution_count": 0,
      "outputs": []
    },
    {
      "cell_type": "code",
      "metadata": {
        "id": "HpQypspFem-x",
        "colab_type": "code",
        "colab": {}
      },
      "source": [
        "x_train, x_test, y_train, y_test = train_test_split(x, y, test_size=0.2,\n",
        "                                                    shuffle=True, random_state=42)"
      ],
      "execution_count": 0,
      "outputs": []
    },
    {
      "cell_type": "code",
      "metadata": {
        "id": "5Nyzjujxkkni",
        "colab_type": "code",
        "colab": {}
      },
      "source": [
        "x_val_out = generate_out_samples(val_size, sample_size)\n",
        "x_val_in = generate_in_samples(val_size, sample_size)\n",
        "x_val = np.concatenate((x_val_out, x_val_in))\n",
        "y_val = np.concatenate((np.ones(val_size), np.zeros(val_size)))"
      ],
      "execution_count": 0,
      "outputs": []
    },
    {
      "cell_type": "markdown",
      "metadata": {
        "id": "LRCEyJcVeVGz",
        "colab_type": "text"
      },
      "source": [
        "# models"
      ]
    },
    {
      "cell_type": "code",
      "metadata": {
        "id": "Msz-m01nfnU2",
        "colab_type": "code",
        "colab": {}
      },
      "source": [
        "from sklearn.model_selection import GridSearchCV\n",
        "from sklearn.metrics import classification_report\n",
        "from sklearn.metrics import f1_score"
      ],
      "execution_count": 0,
      "outputs": []
    },
    {
      "cell_type": "markdown",
      "metadata": {
        "id": "nScO7W3EeZyk",
        "colab_type": "text"
      },
      "source": [
        "## one-class svm"
      ]
    },
    {
      "cell_type": "code",
      "metadata": {
        "id": "jUGaoTDCeOdD",
        "colab_type": "code",
        "colab": {}
      },
      "source": [
        "from sklearn.svm import OneClassSVM"
      ],
      "execution_count": 0,
      "outputs": []
    },
    {
      "cell_type": "code",
      "metadata": {
        "id": "T6bj7sIcfRxd",
        "colab_type": "code",
        "colab": {}
      },
      "source": [
        "out_dist_part = out_distribution_size / (out_distribution_size + in_distribution_size)\n",
        "svm = OneClassSVM(nu=out_dist_part)"
      ],
      "execution_count": 0,
      "outputs": []
    },
    {
      "cell_type": "code",
      "metadata": {
        "id": "UHLulyTHfecp",
        "colab_type": "code",
        "outputId": "7f98f2b5-ab13-4bf2-ce5d-4d96cea4b5bd",
        "colab": {
          "base_uri": "https://localhost:8080/",
          "height": 68
        }
      },
      "source": [
        "svm.fit(x_train, y_train)"
      ],
      "execution_count": 18,
      "outputs": [
        {
          "output_type": "execute_result",
          "data": {
            "text/plain": [
              "OneClassSVM(cache_size=200, coef0=0.0, degree=3, gamma='scale', kernel='rbf',\n",
              "            max_iter=-1, nu=0.09090909090909091, shrinking=True, tol=0.001,\n",
              "            verbose=False)"
            ]
          },
          "metadata": {
            "tags": []
          },
          "execution_count": 18
        }
      ]
    },
    {
      "cell_type": "code",
      "metadata": {
        "id": "x5JGfIb5fgQy",
        "colab_type": "code",
        "colab": {}
      },
      "source": [
        "svm_prediction = svm.predict(x_val)\n",
        "svm_prediction[svm_prediction == 1] = 0\n",
        "svm_prediction[svm_prediction == -1] = 1"
      ],
      "execution_count": 0,
      "outputs": []
    },
    {
      "cell_type": "code",
      "metadata": {
        "id": "ujBiSlTXfzqw",
        "colab_type": "code",
        "outputId": "bd87569c-a20b-4435-b828-2910b6b985f6",
        "colab": {
          "base_uri": "https://localhost:8080/",
          "height": 170
        }
      },
      "source": [
        "print(classification_report(y_val, svm_prediction))"
      ],
      "execution_count": 20,
      "outputs": [
        {
          "output_type": "stream",
          "text": [
            "              precision    recall  f1-score   support\n",
            "\n",
            "         0.0       0.57      0.93      0.70       100\n",
            "         1.0       0.81      0.29      0.43       100\n",
            "\n",
            "    accuracy                           0.61       200\n",
            "   macro avg       0.69      0.61      0.57       200\n",
            "weighted avg       0.69      0.61      0.57       200\n",
            "\n"
          ],
          "name": "stdout"
        }
      ]
    },
    {
      "cell_type": "code",
      "metadata": {
        "id": "22ZGH9yphf2u",
        "colab_type": "code",
        "colab": {}
      },
      "source": [
        "def svc_score(model, x, y):\n",
        "  prediction = model.predict(x)\n",
        "  prediction[prediction == 1] = 0\n",
        "  prediction[prediction == -1] = 1\n",
        "\n",
        "  score = f1_score(y, prediction)\n",
        "  return score"
      ],
      "execution_count": 0,
      "outputs": []
    },
    {
      "cell_type": "code",
      "metadata": {
        "id": "uBV5stvgf2jh",
        "colab_type": "code",
        "outputId": "b5efec46-fa9a-4bb7-b14f-24cd28823c45",
        "colab": {
          "base_uri": "https://localhost:8080/",
          "height": 204
        }
      },
      "source": [
        "svm_parameters = {\n",
        "    \"kernel\": [\"linear\", \"poly\", \"rbf\", \"sigmoid\"],\n",
        "    \"tol\": [1e-4],\n",
        "    \"nu\": [out_dist_part],\n",
        "    \"shrinking\": [True]\n",
        "}\n",
        "svc_clf = GridSearchCV(OneClassSVM(), svm_parameters, scoring=svc_score, n_jobs=-1)\n",
        "svc_clf.fit(x_train, y_train)"
      ],
      "execution_count": 22,
      "outputs": [
        {
          "output_type": "execute_result",
          "data": {
            "text/plain": [
              "GridSearchCV(cv=None, error_score=nan,\n",
              "             estimator=OneClassSVM(cache_size=200, coef0=0.0, degree=3,\n",
              "                                   gamma='scale', kernel='rbf', max_iter=-1,\n",
              "                                   nu=0.5, shrinking=True, tol=0.001,\n",
              "                                   verbose=False),\n",
              "             iid='deprecated', n_jobs=-1,\n",
              "             param_grid={'kernel': ['linear', 'poly', 'rbf', 'sigmoid'],\n",
              "                         'nu': [0.09090909090909091], 'shrinking': [True],\n",
              "                         'tol': [0.0001]},\n",
              "             pre_dispatch='2*n_jobs', refit=True, return_train_score=False,\n",
              "             scoring=<function svc_score at 0x7f9a33b91ea0>, verbose=0)"
            ]
          },
          "metadata": {
            "tags": []
          },
          "execution_count": 22
        }
      ]
    },
    {
      "cell_type": "code",
      "metadata": {
        "id": "utsnI-LQkliI",
        "colab_type": "code",
        "outputId": "9418dcfa-96f5-4b28-a7a3-fc3b9444537e",
        "colab": {
          "base_uri": "https://localhost:8080/",
          "height": 34
        }
      },
      "source": [
        "svc_clf.best_params_"
      ],
      "execution_count": 23,
      "outputs": [
        {
          "output_type": "execute_result",
          "data": {
            "text/plain": [
              "{'kernel': 'rbf', 'nu': 0.09090909090909091, 'shrinking': True, 'tol': 0.0001}"
            ]
          },
          "metadata": {
            "tags": []
          },
          "execution_count": 23
        }
      ]
    },
    {
      "cell_type": "code",
      "metadata": {
        "id": "ew4a0fKOg9hk",
        "colab_type": "code",
        "outputId": "714009f1-6a2e-43af-a9d7-b07ad08cbc91",
        "colab": {
          "base_uri": "https://localhost:8080/",
          "height": 170
        }
      },
      "source": [
        "best_svc = svc_clf.best_estimator_\n",
        "\n",
        "svm_prediction = best_svc.predict(x_val)\n",
        "svm_prediction[svm_prediction == 1] = 0\n",
        "svm_prediction[svm_prediction == -1] = 1\n",
        "\n",
        "print(classification_report(y_val, svm_prediction))"
      ],
      "execution_count": 24,
      "outputs": [
        {
          "output_type": "stream",
          "text": [
            "              precision    recall  f1-score   support\n",
            "\n",
            "         0.0       0.57      0.93      0.70       100\n",
            "         1.0       0.81      0.29      0.43       100\n",
            "\n",
            "    accuracy                           0.61       200\n",
            "   macro avg       0.69      0.61      0.57       200\n",
            "weighted avg       0.69      0.61      0.57       200\n",
            "\n"
          ],
          "name": "stdout"
        }
      ]
    },
    {
      "cell_type": "markdown",
      "metadata": {
        "id": "NxCLKU1akvs5",
        "colab_type": "text"
      },
      "source": [
        "## isolation forest"
      ]
    },
    {
      "cell_type": "code",
      "metadata": {
        "id": "aiVP-sMOkLmg",
        "colab_type": "code",
        "colab": {}
      },
      "source": [
        "from sklearn.ensemble import IsolationForest"
      ],
      "execution_count": 0,
      "outputs": []
    },
    {
      "cell_type": "code",
      "metadata": {
        "id": "pYgJwtQ5lARN",
        "colab_type": "code",
        "colab": {}
      },
      "source": [
        "out_dist_part = out_distribution_size / (out_distribution_size + in_distribution_size)"
      ],
      "execution_count": 0,
      "outputs": []
    },
    {
      "cell_type": "code",
      "metadata": {
        "id": "ZqW3NHG0k20W",
        "colab_type": "code",
        "outputId": "f764bac9-9c3b-47c4-e777-f79711760a39",
        "colab": {
          "base_uri": "https://localhost:8080/",
          "height": 85
        }
      },
      "source": [
        "iso_forest = IsolationForest(n_estimators=100, contamination=out_dist_part, max_features=100, n_jobs=-1)\n",
        "iso_forest.fit(x_train)"
      ],
      "execution_count": 27,
      "outputs": [
        {
          "output_type": "execute_result",
          "data": {
            "text/plain": [
              "IsolationForest(behaviour='deprecated', bootstrap=False,\n",
              "                contamination=0.09090909090909091, max_features=100,\n",
              "                max_samples='auto', n_estimators=100, n_jobs=-1,\n",
              "                random_state=None, verbose=0, warm_start=False)"
            ]
          },
          "metadata": {
            "tags": []
          },
          "execution_count": 27
        }
      ]
    },
    {
      "cell_type": "code",
      "metadata": {
        "id": "iHP-thaslBqx",
        "colab_type": "code",
        "outputId": "a6141e8e-6e7b-4e69-cc0e-6ac9645e3309",
        "colab": {
          "base_uri": "https://localhost:8080/",
          "height": 170
        }
      },
      "source": [
        "iso_forest_prediction = iso_forest.predict(x_val)\n",
        "iso_forest_prediction[iso_forest_prediction == 1] = 0\n",
        "iso_forest_prediction[iso_forest_prediction == -1] = 1\n",
        "\n",
        "print(classification_report(y_val, iso_forest_prediction))"
      ],
      "execution_count": 28,
      "outputs": [
        {
          "output_type": "stream",
          "text": [
            "              precision    recall  f1-score   support\n",
            "\n",
            "         0.0       0.51      0.94      0.66       100\n",
            "         1.0       0.57      0.08      0.14       100\n",
            "\n",
            "    accuracy                           0.51       200\n",
            "   macro avg       0.54      0.51      0.40       200\n",
            "weighted avg       0.54      0.51      0.40       200\n",
            "\n"
          ],
          "name": "stdout"
        }
      ]
    },
    {
      "cell_type": "markdown",
      "metadata": {
        "id": "ifnXvT9PlRWD",
        "colab_type": "text"
      },
      "source": [
        "## random forest classifier"
      ]
    },
    {
      "cell_type": "code",
      "metadata": {
        "id": "G2xK2DwClPMc",
        "colab_type": "code",
        "colab": {}
      },
      "source": [
        "from sklearn.ensemble import RandomForestClassifier"
      ],
      "execution_count": 0,
      "outputs": []
    },
    {
      "cell_type": "code",
      "metadata": {
        "id": "UpNW0QnblX8c",
        "colab_type": "code",
        "outputId": "92068f0d-4fac-4423-a63a-654ea0c53d82",
        "colab": {
          "base_uri": "https://localhost:8080/",
          "height": 153
        }
      },
      "source": [
        "random_forest = RandomForestClassifier(n_estimators=100, max_features=100, n_jobs=-1)\n",
        "random_forest.fit(x_train, y_train)"
      ],
      "execution_count": 30,
      "outputs": [
        {
          "output_type": "execute_result",
          "data": {
            "text/plain": [
              "RandomForestClassifier(bootstrap=True, ccp_alpha=0.0, class_weight=None,\n",
              "                       criterion='gini', max_depth=None, max_features=100,\n",
              "                       max_leaf_nodes=None, max_samples=None,\n",
              "                       min_impurity_decrease=0.0, min_impurity_split=None,\n",
              "                       min_samples_leaf=1, min_samples_split=2,\n",
              "                       min_weight_fraction_leaf=0.0, n_estimators=100,\n",
              "                       n_jobs=-1, oob_score=False, random_state=None, verbose=0,\n",
              "                       warm_start=False)"
            ]
          },
          "metadata": {
            "tags": []
          },
          "execution_count": 30
        }
      ]
    },
    {
      "cell_type": "code",
      "metadata": {
        "id": "tmcqqwqpldPE",
        "colab_type": "code",
        "outputId": "951414d9-7712-49fc-e7f3-0cbcd98a127f",
        "colab": {
          "base_uri": "https://localhost:8080/",
          "height": 170
        }
      },
      "source": [
        "random_forest_prediction = random_forest.predict(x_val)\n",
        "print(classification_report(y_val, random_forest_prediction))"
      ],
      "execution_count": 31,
      "outputs": [
        {
          "output_type": "stream",
          "text": [
            "              precision    recall  f1-score   support\n",
            "\n",
            "         0.0       0.57      0.99      0.73       100\n",
            "         1.0       0.96      0.26      0.41       100\n",
            "\n",
            "    accuracy                           0.62       200\n",
            "   macro avg       0.77      0.62      0.57       200\n",
            "weighted avg       0.77      0.62      0.57       200\n",
            "\n"
          ],
          "name": "stdout"
        }
      ]
    },
    {
      "cell_type": "markdown",
      "metadata": {
        "id": "-eww2zucl5tI",
        "colab_type": "text"
      },
      "source": [
        "## reconstruction models"
      ]
    },
    {
      "cell_type": "code",
      "metadata": {
        "id": "iI1Jq7LuvOHJ",
        "colab_type": "code",
        "colab": {}
      },
      "source": [
        "import torch\n",
        "from torch import nn\n",
        "from torch.utils.data import TensorDataset, DataLoader\n",
        "from torch.optim import Adam"
      ],
      "execution_count": 0,
      "outputs": []
    },
    {
      "cell_type": "code",
      "metadata": {
        "id": "Zd0MKFuo2n-F",
        "colab_type": "code",
        "colab": {}
      },
      "source": [
        "batch_size = 32\n",
        "lr = 1e-3"
      ],
      "execution_count": 0,
      "outputs": []
    },
    {
      "cell_type": "code",
      "metadata": {
        "id": "XtbB0PRgv_C9",
        "colab_type": "code",
        "colab": {}
      },
      "source": [
        "train_in_distribution = x_train[y_train == 0]\n",
        "train_in_distribution = torch.tensor(train_in_distribution.astype(np.float32))\n",
        "\n",
        "train_in_dataset = TensorDataset(train_in_distribution)\n",
        "train_in_loader = DataLoader(train_in_dataset, batch_size=batch_size, shuffle=True)\n",
        "\n",
        "test_dataset = TensorDataset(\n",
        "    torch.tensor(x_test.astype(np.float32)),\n",
        "    torch.tensor(y_test.astype(np.long))\n",
        ")\n",
        "test_loader = DataLoader(test_dataset, batch_size=batch_size, shuffle=False)\n",
        "\n",
        "val_dataset = TensorDataset(torch.tensor(x_val.astype(np.float32)))\n",
        "val_loader = DataLoader(val_dataset, batch_size=batch_size, shuffle=False)"
      ],
      "execution_count": 0,
      "outputs": []
    },
    {
      "cell_type": "code",
      "metadata": {
        "id": "LzBqEI6Mt7li",
        "colab_type": "code",
        "colab": {}
      },
      "source": [
        "class Autoencoder(nn.Module):\n",
        "  def __init__(self, input_size):\n",
        "    super(Autoencoder, self).__init__()\n",
        "    self.encoder = nn.Sequential(\n",
        "      nn.Linear(input_size, 128),\n",
        "      nn.LeakyReLU(0.2),\n",
        "      nn.Linear(128, 64),\n",
        "      nn.LeakyReLU(0.2),\n",
        "      nn.Linear(64, 16),\n",
        "      nn.LeakyReLU(0.2),\n",
        "      nn.Linear(16, 4),\n",
        "      nn.LeakyReLU(0.2),\n",
        "    )\n",
        "    self.decoder = nn.Sequential(\n",
        "      nn.Linear(4, 16),\n",
        "      nn.LeakyReLU(0.2),\n",
        "      nn.Linear(16, 64),\n",
        "      nn.LeakyReLU(0.2),\n",
        "      nn.Linear(64, 128),\n",
        "      nn.LeakyReLU(0.2),\n",
        "      nn.Linear(128, 256),\n",
        "      nn.LeakyReLU(0.2),\n",
        "    )\n",
        "\n",
        "  def forward(self, x):\n",
        "    x = self.encoder(x)\n",
        "    x = self.decoder(x)\n",
        "    return x"
      ],
      "execution_count": 0,
      "outputs": []
    },
    {
      "cell_type": "code",
      "metadata": {
        "id": "DfAz_4DhyG0Y",
        "colab_type": "code",
        "colab": {}
      },
      "source": [
        "model = Autoencoder(sample_size).cuda()\n",
        "criterion = nn.MSELoss()\n",
        "per_sample_criterion = nn.MSELoss(reduction=\"none\")\n",
        "optimizer = Adam(model.parameters(), lr=lr, weight_decay=1e-5)"
      ],
      "execution_count": 0,
      "outputs": []
    },
    {
      "cell_type": "code",
      "metadata": {
        "id": "wALDL_uizfXo",
        "colab_type": "code",
        "colab": {}
      },
      "source": [
        "def save_score_distribution(model, data_loader, criterion, save_to, figsize=(8, 6)):\n",
        "  losses = []\n",
        "  labels = []\n",
        "  for (x_batch, y_batch) in data_loader:\n",
        "    x_batch = x_batch.cuda()\n",
        "    \n",
        "    output = model(x_batch)\n",
        "    loss = criterion(output, x_batch)\n",
        "    \n",
        "    loss = torch.mean(loss, dim=1)\n",
        "    loss = loss.detach().cpu().numpy().flatten()\n",
        "    losses.append(loss)\n",
        "    \n",
        "    labels.append(y_batch.detach().cpu().numpy().flatten())\n",
        "  \n",
        "  losses = np.concatenate(losses)\n",
        "  labels = np.concatenate(labels)\n",
        "  \n",
        "  losses_0 = losses[labels == 0]\n",
        "  losses_1 = losses[labels == 1]\n",
        "\n",
        "  fig, ax = plt.subplots(1, figsize=figsize)\n",
        "\n",
        "  ax.boxplot([losses_0, losses_1])\n",
        "  ax.set_xticklabels(['normal', 'anomaly'])\n",
        "\n",
        "  plt.savefig(save_to)\n",
        "  plt.close(fig)"
      ],
      "execution_count": 0,
      "outputs": []
    },
    {
      "cell_type": "code",
      "metadata": {
        "id": "BxEeLbci4tXy",
        "colab_type": "code",
        "colab": {}
      },
      "source": [
        "save_score_distribution(model, test_loader, per_sample_criterion, \"1.jpg\")"
      ],
      "execution_count": 0,
      "outputs": []
    },
    {
      "cell_type": "code",
      "metadata": {
        "id": "lP68INrl4cxp",
        "colab_type": "code",
        "colab": {}
      },
      "source": [
        "experiment_path = \"ood_detection\"\n",
        "!rm -rf $experiment_path\n",
        "os.makedirs(experiment_path, exist_ok=True)"
      ],
      "execution_count": 0,
      "outputs": []
    },
    {
      "cell_type": "code",
      "metadata": {
        "id": "k5tRZ7fB9HbM",
        "colab_type": "code",
        "colab": {}
      },
      "source": [
        "epochs = 100"
      ],
      "execution_count": 0,
      "outputs": []
    },
    {
      "cell_type": "code",
      "metadata": {
        "id": "g7Mi0NYYyYsi",
        "colab_type": "code",
        "outputId": "bd2794c0-b073-4c6d-9b5e-3f873bd7c411",
        "colab": {
          "base_uri": "https://localhost:8080/",
          "height": 1000
        }
      },
      "source": [
        "for epoch in range(epochs):\n",
        "  running_loss = 0\n",
        "  for (x_batch, ) in train_in_loader:\n",
        "    x_batch = x_batch.cuda()\n",
        "    \n",
        "    output = model(x_batch)\n",
        "    loss = criterion(output, x_batch)\n",
        "    \n",
        "    optimizer.zero_grad()\n",
        "    loss.backward()\n",
        "    optimizer.step()\n",
        "\n",
        "    running_loss += loss.item()\n",
        "  \n",
        "  print(\"epoch [{}/{}], train loss:{:.4f}\".format(epoch+1, epochs, running_loss))\n",
        "  \n",
        "  plot_path = os.path.join(experiment_path, \"{}.jpg\".format(epoch+1))\n",
        "  save_score_distribution(model, test_loader, per_sample_criterion, plot_path)"
      ],
      "execution_count": 41,
      "outputs": [
        {
          "output_type": "stream",
          "text": [
            "epoch [1/100], train loss:8.6027\n",
            "epoch [2/100], train loss:4.0553\n",
            "epoch [3/100], train loss:1.3192\n",
            "epoch [4/100], train loss:0.8744\n",
            "epoch [5/100], train loss:0.7250\n",
            "epoch [6/100], train loss:0.4987\n",
            "epoch [7/100], train loss:0.3400\n",
            "epoch [8/100], train loss:0.2866\n",
            "epoch [9/100], train loss:0.2244\n",
            "epoch [10/100], train loss:0.1834\n",
            "epoch [11/100], train loss:0.1556\n",
            "epoch [12/100], train loss:0.1277\n",
            "epoch [13/100], train loss:0.1028\n",
            "epoch [14/100], train loss:0.0881\n",
            "epoch [15/100], train loss:0.0775\n",
            "epoch [16/100], train loss:0.0694\n",
            "epoch [17/100], train loss:0.0646\n",
            "epoch [18/100], train loss:0.0576\n",
            "epoch [19/100], train loss:0.0552\n",
            "epoch [20/100], train loss:0.0521\n",
            "epoch [21/100], train loss:0.0482\n",
            "epoch [22/100], train loss:0.0473\n",
            "epoch [23/100], train loss:0.0471\n",
            "epoch [24/100], train loss:0.0428\n",
            "epoch [25/100], train loss:0.0409\n",
            "epoch [26/100], train loss:0.0351\n",
            "epoch [27/100], train loss:0.0329\n",
            "epoch [28/100], train loss:0.0343\n",
            "epoch [29/100], train loss:0.0324\n",
            "epoch [30/100], train loss:0.0320\n",
            "epoch [31/100], train loss:0.0341\n",
            "epoch [32/100], train loss:0.0291\n",
            "epoch [33/100], train loss:0.0271\n",
            "epoch [34/100], train loss:0.0255\n",
            "epoch [35/100], train loss:0.0259\n",
            "epoch [36/100], train loss:0.0276\n",
            "epoch [37/100], train loss:0.0307\n",
            "epoch [38/100], train loss:0.0291\n",
            "epoch [39/100], train loss:0.0215\n",
            "epoch [40/100], train loss:0.0196\n",
            "epoch [41/100], train loss:0.0195\n",
            "epoch [42/100], train loss:0.0233\n",
            "epoch [43/100], train loss:0.0227\n",
            "epoch [44/100], train loss:0.0236\n",
            "epoch [45/100], train loss:0.0191\n",
            "epoch [46/100], train loss:0.0188\n",
            "epoch [47/100], train loss:0.0206\n",
            "epoch [48/100], train loss:0.0188\n",
            "epoch [49/100], train loss:0.0191\n",
            "epoch [50/100], train loss:0.0185\n",
            "epoch [51/100], train loss:0.0161\n",
            "epoch [52/100], train loss:0.0166\n",
            "epoch [53/100], train loss:0.0159\n",
            "epoch [54/100], train loss:0.0310\n",
            "epoch [55/100], train loss:0.0209\n",
            "epoch [56/100], train loss:0.0164\n",
            "epoch [57/100], train loss:0.0151\n",
            "epoch [58/100], train loss:0.0147\n",
            "epoch [59/100], train loss:0.0135\n",
            "epoch [60/100], train loss:0.0172\n",
            "epoch [61/100], train loss:0.0202\n",
            "epoch [62/100], train loss:0.0184\n",
            "epoch [63/100], train loss:0.0233\n",
            "epoch [64/100], train loss:0.0143\n",
            "epoch [65/100], train loss:0.0136\n",
            "epoch [66/100], train loss:0.0142\n",
            "epoch [67/100], train loss:0.0139\n",
            "epoch [68/100], train loss:0.0127\n",
            "epoch [69/100], train loss:0.0122\n",
            "epoch [70/100], train loss:0.0140\n",
            "epoch [71/100], train loss:0.0157\n",
            "epoch [72/100], train loss:0.0216\n",
            "epoch [73/100], train loss:0.0292\n",
            "epoch [74/100], train loss:0.0135\n",
            "epoch [75/100], train loss:0.0119\n",
            "epoch [76/100], train loss:0.0117\n",
            "epoch [77/100], train loss:0.0125\n",
            "epoch [78/100], train loss:0.0120\n",
            "epoch [79/100], train loss:0.0142\n",
            "epoch [80/100], train loss:0.0142\n",
            "epoch [81/100], train loss:0.0114\n",
            "epoch [82/100], train loss:0.0167\n",
            "epoch [83/100], train loss:0.0129\n",
            "epoch [84/100], train loss:0.0125\n",
            "epoch [85/100], train loss:0.0124\n",
            "epoch [86/100], train loss:0.0142\n",
            "epoch [87/100], train loss:0.0135\n",
            "epoch [88/100], train loss:0.0132\n",
            "epoch [89/100], train loss:0.0120\n",
            "epoch [90/100], train loss:0.0142\n",
            "epoch [91/100], train loss:0.0137\n",
            "epoch [92/100], train loss:0.0156\n",
            "epoch [93/100], train loss:0.0134\n",
            "epoch [94/100], train loss:0.0102\n",
            "epoch [95/100], train loss:0.0120\n",
            "epoch [96/100], train loss:0.0191\n",
            "epoch [97/100], train loss:0.0223\n",
            "epoch [98/100], train loss:0.0237\n",
            "epoch [99/100], train loss:0.0123\n",
            "epoch [100/100], train loss:0.0094\n"
          ],
          "name": "stdout"
        }
      ]
    },
    {
      "cell_type": "code",
      "metadata": {
        "id": "2StXpu99sEYj",
        "colab_type": "code",
        "colab": {}
      },
      "source": [
        "def get_prediction(model, x):\n",
        "  global batch_size\n",
        "\n",
        "  dataset = TensorDataset(torch.tensor(x.astype(np.float32)))\n",
        "  data_loader = DataLoader(dataset, batch_size=batch_size, shuffle=False)\n",
        "  \n",
        "  predictions = []\n",
        "  for batch in data_loader:\n",
        "    x_batch = batch[0].cuda()\n",
        "    pred = model(x_batch)\n",
        "    predictions.append(pred.detach().cpu().numpy())\n",
        "  \n",
        "  predictions = np.concatenate(predictions)\n",
        "  return predictions"
      ],
      "execution_count": 0,
      "outputs": []
    },
    {
      "cell_type": "code",
      "metadata": {
        "id": "maec-x-XsbTV",
        "colab_type": "code",
        "colab": {}
      },
      "source": [
        "def compare_data(xs, sample_num, data_range=(0, 1), labels=None):\n",
        "  fig, axes = plt.subplots(len(xs))\n",
        "  sample_size = len(xs[0][sample_num])\n",
        "  \n",
        "  for i in range(len(xs)):\n",
        "    axes[i].plot(np.linspace(*data_range, sample_size), xs[i][sample_num])\n",
        "  \n",
        "  if labels:\n",
        "    for i, label in enumerate(labels):\n",
        "      axes[i].set_ylabel(label)"
      ],
      "execution_count": 0,
      "outputs": []
    },
    {
      "cell_type": "code",
      "metadata": {
        "id": "OFqxepUrsXX4",
        "colab_type": "code",
        "colab": {}
      },
      "source": [
        "x_test_pred = get_prediction(model, x_test)"
      ],
      "execution_count": 0,
      "outputs": []
    },
    {
      "cell_type": "code",
      "metadata": {
        "id": "nvEuYp2TtLxO",
        "colab_type": "code",
        "outputId": "31a6cde2-3fd0-4e85-812d-8486e8f5ffe8",
        "colab": {
          "base_uri": "https://localhost:8080/",
          "height": 265
        }
      },
      "source": [
        "compare_data([x_test[y_test == 0], x_test_pred[y_test == 0]], 10, labels=[\"real\", \"encoded\"])"
      ],
      "execution_count": 76,
      "outputs": [
        {
          "output_type": "display_data",
          "data": {
            "image/png": "[encoded data removed]",
            "text/plain": [
              "<Figure size 432x288 with 2 Axes>"
            ]
          },
          "metadata": {
            "tags": []
          }
        }
      ]
    },
    {
      "cell_type": "code",
      "metadata": {
        "id": "YvCaANSabpTH",
        "colab_type": "code",
        "colab": {
          "base_uri": "https://localhost:8080/",
          "height": 265
        },
        "outputId": "cdd2e01b-47e9-4ec9-844f-2123952079f2"
      },
      "source": [
        "compare_data([x_test[y_test == 1], x_test_pred[y_test == 1]], 10, labels=[\"real\", \"encoded\"])"
      ],
      "execution_count": 77,
      "outputs": [
        {
          "output_type": "display_data",
          "data": {
            "image/png": "[encoded data removed]",
            "text/plain": [
              "<Figure size 432x288 with 2 Axes>"
            ]
          },
          "metadata": {
            "tags": []
          }
        }
      ]
    },
    {
      "cell_type": "markdown",
      "metadata": {
        "id": "SmI89KtngbIh",
        "colab_type": "text"
      },
      "source": [
        "### embeddings"
      ]
    },
    {
      "cell_type": "code",
      "metadata": {
        "id": "0JpKG5OMvLrB",
        "colab_type": "code",
        "colab": {}
      },
      "source": [
        "def get_embedding(model, data_loader):\n",
        "  x_emb = []\n",
        "  for batch in data_loader:\n",
        "    x_batch = batch[0].cuda()\n",
        "\n",
        "    encoded_batch = model.encoder(x_batch)\n",
        "    encoded_batch = encoded_batch.detach().cpu().numpy()\n",
        "    \n",
        "    x_emb.append(encoded_batch)\n",
        "\n",
        "  x_emb = np.concatenate(x_emb)\n",
        "  return x_emb"
      ],
      "execution_count": 0,
      "outputs": []
    },
    {
      "cell_type": "code",
      "metadata": {
        "id": "7jWIHWK-vnqo",
        "colab_type": "code",
        "colab": {}
      },
      "source": [
        "x_test_encoded = get_embedding(model, test_loader)"
      ],
      "execution_count": 0,
      "outputs": []
    },
    {
      "cell_type": "code",
      "metadata": {
        "id": "c5A4s8z2-qVn",
        "colab_type": "code",
        "outputId": "93b3ceee-8f62-4b9c-c4a6-7fe144b757aa",
        "colab": {
          "base_uri": "https://localhost:8080/",
          "height": 34
        }
      },
      "source": [
        "x_test_encoded.shape"
      ],
      "execution_count": 49,
      "outputs": [
        {
          "output_type": "execute_result",
          "data": {
            "text/plain": [
              "(440, 4)"
            ]
          },
          "metadata": {
            "tags": []
          },
          "execution_count": 49
        }
      ]
    },
    {
      "cell_type": "code",
      "metadata": {
        "id": "ppoMH4EsE_RS",
        "colab_type": "code",
        "outputId": "76380919-57d8-44c2-895b-1ac73cb7c58d",
        "colab": {
          "base_uri": "https://localhost:8080/",
          "height": 282
        }
      },
      "source": [
        "plt.imshow(x_test_encoded[:20])"
      ],
      "execution_count": 50,
      "outputs": [
        {
          "output_type": "execute_result",
          "data": {
            "text/plain": [
              "<matplotlib.image.AxesImage at 0x7f5d85282160>"
            ]
          },
          "metadata": {
            "tags": []
          },
          "execution_count": 50
        },
        {
          "output_type": "display_data",
          "data": {
            "image/png": "[encoded data removed]",
            "text/plain": [
              "<Figure size 432x288 with 1 Axes>"
            ]
          },
          "metadata": {
            "tags": []
          }
        }
      ]
    },
    {
      "cell_type": "code",
      "metadata": {
        "id": "1ekEADxKu8He",
        "colab_type": "code",
        "colab": {}
      },
      "source": [
        "from sklearn.ensemble import RandomForestClassifier"
      ],
      "execution_count": 0,
      "outputs": []
    },
    {
      "cell_type": "code",
      "metadata": {
        "id": "R1hRrvZIvAKY",
        "colab_type": "code",
        "outputId": "a4dea835-5094-4322-f754-6f3155d805da",
        "colab": {
          "base_uri": "https://localhost:8080/",
          "height": 153
        }
      },
      "source": [
        "embeddings_forest = RandomForestClassifier()\n",
        "embeddings_forest.fit(x_test_encoded, y_test)"
      ],
      "execution_count": 89,
      "outputs": [
        {
          "output_type": "execute_result",
          "data": {
            "text/plain": [
              "RandomForestClassifier(bootstrap=True, ccp_alpha=0.0, class_weight=None,\n",
              "                       criterion='gini', max_depth=None, max_features='auto',\n",
              "                       max_leaf_nodes=None, max_samples=None,\n",
              "                       min_impurity_decrease=0.0, min_impurity_split=None,\n",
              "                       min_samples_leaf=1, min_samples_split=2,\n",
              "                       min_weight_fraction_leaf=0.0, n_estimators=100,\n",
              "                       n_jobs=None, oob_score=False, random_state=None,\n",
              "                       verbose=0, warm_start=False)"
            ]
          },
          "metadata": {
            "tags": []
          },
          "execution_count": 89
        }
      ]
    },
    {
      "cell_type": "code",
      "metadata": {
        "id": "4NnVy4CNvJLC",
        "colab_type": "code",
        "colab": {}
      },
      "source": [
        "val_embeddings = get_embedding(model, val_loader)"
      ],
      "execution_count": 0,
      "outputs": []
    },
    {
      "cell_type": "code",
      "metadata": {
        "id": "K7jCvUUmv8v5",
        "colab_type": "code",
        "outputId": "69d2a960-ff8b-44a0-ace7-82553d7a59b8",
        "colab": {
          "base_uri": "https://localhost:8080/",
          "height": 282
        }
      },
      "source": [
        "plt.imshow(val_embeddings[:20])"
      ],
      "execution_count": 92,
      "outputs": [
        {
          "output_type": "execute_result",
          "data": {
            "text/plain": [
              "<matplotlib.image.AxesImage at 0x7f5d84ca0a20>"
            ]
          },
          "metadata": {
            "tags": []
          },
          "execution_count": 92
        },
        {
          "output_type": "display_data",
          "data": {
            "image/png": "[encoded data removed]",
            "text/plain": [
              "<Figure size 432x288 with 1 Axes>"
            ]
          },
          "metadata": {
            "tags": []
          }
        }
      ]
    },
    {
      "cell_type": "code",
      "metadata": {
        "id": "eZanA8o5v-zq",
        "colab_type": "code",
        "outputId": "6cba7bec-339a-4cc2-e5a7-a76d6af50776",
        "colab": {
          "base_uri": "https://localhost:8080/",
          "height": 170
        }
      },
      "source": [
        "val_prediction = embeddings_forest.predict(val_embeddings)\n",
        "print(val_prediction)"
      ],
      "execution_count": 93,
      "outputs": [
        {
          "output_type": "stream",
          "text": [
            "[0. 0. 0. 0. 0. 0. 0. 0. 0. 0. 0. 1. 0. 0. 0. 0. 0. 0. 1. 0. 0. 0. 0. 0.\n",
            " 0. 0. 0. 0. 0. 0. 0. 0. 0. 0. 0. 0. 0. 0. 0. 0. 0. 0. 0. 0. 0. 0. 0. 0.\n",
            " 0. 0. 0. 0. 0. 0. 0. 0. 0. 0. 0. 0. 0. 0. 0. 0. 0. 0. 0. 0. 0. 0. 0. 0.\n",
            " 0. 0. 0. 0. 0. 0. 0. 0. 0. 0. 0. 0. 0. 0. 0. 0. 0. 0. 0. 0. 0. 0. 0. 0.\n",
            " 0. 0. 0. 0. 0. 0. 0. 0. 0. 0. 0. 0. 0. 0. 0. 0. 0. 0. 0. 0. 0. 0. 0. 0.\n",
            " 0. 0. 0. 0. 0. 0. 0. 0. 0. 0. 0. 0. 0. 0. 0. 0. 0. 0. 0. 0. 0. 0. 0. 0.\n",
            " 0. 0. 0. 0. 0. 0. 0. 0. 0. 0. 0. 0. 0. 0. 0. 0. 0. 0. 0. 0. 0. 0. 0. 0.\n",
            " 0. 1. 0. 0. 0. 0. 0. 0. 0. 0. 0. 0. 0. 0. 0. 0. 0. 0. 0. 0. 0. 0. 0. 0.\n",
            " 0. 0. 0. 0. 0. 0. 0. 0.]\n"
          ],
          "name": "stdout"
        }
      ]
    },
    {
      "cell_type": "code",
      "metadata": {
        "id": "oAOKdtFJqt1N",
        "colab_type": "code",
        "colab": {
          "base_uri": "https://localhost:8080/",
          "height": 170
        },
        "outputId": "b409c55e-c7da-4562-d6c1-b51e99e0c739"
      },
      "source": [
        "print(classification_report(y_val, val_prediction))"
      ],
      "execution_count": 94,
      "outputs": [
        {
          "output_type": "stream",
          "text": [
            "              precision    recall  f1-score   support\n",
            "\n",
            "         0.0       0.50      0.99      0.67       100\n",
            "         1.0       0.67      0.02      0.04       100\n",
            "\n",
            "    accuracy                           0.51       200\n",
            "   macro avg       0.58      0.51      0.35       200\n",
            "weighted avg       0.58      0.51      0.35       200\n",
            "\n"
          ],
          "name": "stdout"
        }
      ]
    },
    {
      "cell_type": "markdown",
      "metadata": {
        "id": "Fr2vK-H_gt2P",
        "colab_type": "text"
      },
      "source": [
        "### difference score"
      ]
    },
    {
      "cell_type": "code",
      "metadata": {
        "id": "fQuMoyF3wV9R",
        "colab_type": "code",
        "colab": {}
      },
      "source": [
        "def get_difference_score(model, x):\n",
        "  global batch_size\n",
        "\n",
        "  dataset = TensorDataset(torch.tensor(x.astype(np.float32)))\n",
        "  data_loader = DataLoader(dataset, batch_size=batch_size, shuffle=False)\n",
        "\n",
        "  predictions = []\n",
        "  for (x_batch, ) in data_loader:\n",
        "    x_batch = x_batch.cuda()\n",
        "    preds = model(x_batch)\n",
        "    predictions.append(preds.detach().cpu().numpy())\n",
        "  \n",
        "  predictions = np.concatenate(predictions)\n",
        "\n",
        "  return (x - predictions)"
      ],
      "execution_count": 0,
      "outputs": []
    },
    {
      "cell_type": "code",
      "metadata": {
        "id": "LXoExrrdxfbv",
        "colab_type": "code",
        "colab": {}
      },
      "source": [
        "from sklearn.ensemble import RandomForestClassifier"
      ],
      "execution_count": 0,
      "outputs": []
    },
    {
      "cell_type": "code",
      "metadata": {
        "id": "fuLdKNdtxWoP",
        "colab_type": "code",
        "colab": {}
      },
      "source": [
        "test_score = get_difference_score(model, x_test)"
      ],
      "execution_count": 0,
      "outputs": []
    },
    {
      "cell_type": "code",
      "metadata": {
        "id": "kJCMhuuLxhaG",
        "colab_type": "code",
        "outputId": "cc60c7a0-bbf9-49a5-90b1-2d2f699d7ff8",
        "colab": {
          "base_uri": "https://localhost:8080/",
          "height": 153
        }
      },
      "source": [
        "score_forest = RandomForestClassifier(max_features=100)\n",
        "score_forest.fit(test_score, y_test)"
      ],
      "execution_count": 89,
      "outputs": [
        {
          "output_type": "execute_result",
          "data": {
            "text/plain": [
              "RandomForestClassifier(bootstrap=True, ccp_alpha=0.0, class_weight=None,\n",
              "                       criterion='gini', max_depth=None, max_features=100,\n",
              "                       max_leaf_nodes=None, max_samples=None,\n",
              "                       min_impurity_decrease=0.0, min_impurity_split=None,\n",
              "                       min_samples_leaf=1, min_samples_split=2,\n",
              "                       min_weight_fraction_leaf=0.0, n_estimators=100,\n",
              "                       n_jobs=None, oob_score=False, random_state=None,\n",
              "                       verbose=0, warm_start=False)"
            ]
          },
          "metadata": {
            "tags": []
          },
          "execution_count": 89
        }
      ]
    },
    {
      "cell_type": "code",
      "metadata": {
        "id": "u_SHTxTvxk-N",
        "colab_type": "code",
        "outputId": "c80aca0b-2282-402f-ef12-96f27c1f211f",
        "colab": {
          "base_uri": "https://localhost:8080/",
          "height": 170
        }
      },
      "source": [
        "val_score = get_difference_score(model, x_val)\n",
        "prediction = score_forest.predict(val_score)\n",
        "print(classification_report(y_val, prediction))"
      ],
      "execution_count": 92,
      "outputs": [
        {
          "output_type": "stream",
          "text": [
            "              precision    recall  f1-score   support\n",
            "\n",
            "         0.0       0.76      1.00      0.87       100\n",
            "         1.0       1.00      0.69      0.82       100\n",
            "\n",
            "    accuracy                           0.84       200\n",
            "   macro avg       0.88      0.84      0.84       200\n",
            "weighted avg       0.88      0.84      0.84       200\n",
            "\n"
          ],
          "name": "stdout"
        }
      ]
    },
    {
      "cell_type": "code",
      "metadata": {
        "id": "YnUBjRSmxpf0",
        "colab_type": "code",
        "colab": {}
      },
      "source": [
        "indices = np.arange(len(prediction))\n",
        "wrong_indices = indices[(prediction == 0) & (y_val == 1)]"
      ],
      "execution_count": 0,
      "outputs": []
    },
    {
      "cell_type": "code",
      "metadata": {
        "id": "M15rYFe4hXRI",
        "colab_type": "code",
        "colab": {}
      },
      "source": [
        "x_val_pred = get_prediction(model, x_val)"
      ],
      "execution_count": 0,
      "outputs": []
    },
    {
      "cell_type": "code",
      "metadata": {
        "id": "DLSXMN-P2A5s",
        "colab_type": "code",
        "outputId": "65200284-7053-4210-c930-7b791566afa5",
        "colab": {
          "base_uri": "https://localhost:8080/",
          "height": 265
        }
      },
      "source": [
        "compare_data([x_val, x_val_pred], wrong_indices[0])"
      ],
      "execution_count": 95,
      "outputs": [
        {
          "output_type": "display_data",
          "data": {
            "image/png": "[encoded data removed]",
            "text/plain": [
              "<Figure size 432x288 with 2 Axes>"
            ]
          },
          "metadata": {
            "tags": []
          }
        }
      ]
    },
    {
      "cell_type": "code",
      "metadata": {
        "id": "mwNxHW2A2uQx",
        "colab_type": "code",
        "outputId": "e034882e-a8e0-431e-b12c-9d8fdd1d464f",
        "colab": {
          "base_uri": "https://localhost:8080/",
          "height": 109
        }
      },
      "source": [
        "plt.imshow(val_score[wrong_indices], norm=Normalize(0, 1, clip=True))"
      ],
      "execution_count": 96,
      "outputs": [
        {
          "output_type": "execute_result",
          "data": {
            "text/plain": [
              "<matplotlib.image.AxesImage at 0x7f9994d0e278>"
            ]
          },
          "metadata": {
            "tags": []
          },
          "execution_count": 96
        },
        {
          "output_type": "display_data",
          "data": {
            "image/png": "[encoded data removed]",
            "text/plain": [
              "<Figure size 432x288 with 1 Axes>"
            ]
          },
          "metadata": {
            "tags": []
          }
        }
      ]
    },
    {
      "cell_type": "code",
      "metadata": {
        "id": "84TpFgQa25OK",
        "colab_type": "code",
        "outputId": "fb86e1b2-f859-443e-8f13-986f78696e84",
        "colab": {
          "base_uri": "https://localhost:8080/",
          "height": 158
        }
      },
      "source": [
        "plt.imshow(val_score[(prediction == 1) & (y_val == 1)], norm=Normalize(0, 1, clip=True))"
      ],
      "execution_count": 98,
      "outputs": [
        {
          "output_type": "execute_result",
          "data": {
            "text/plain": [
              "<matplotlib.image.AxesImage at 0x7f9994c40128>"
            ]
          },
          "metadata": {
            "tags": []
          },
          "execution_count": 98
        },
        {
          "output_type": "display_data",
          "data": {
            "image/png": "[encoded data removed]",
            "text/plain": [
              "<Figure size 432x288 with 1 Axes>"
            ]
          },
          "metadata": {
            "tags": []
          }
        }
      ]
    },
    {
      "cell_type": "code",
      "metadata": {
        "id": "_x5qYZdY3GgN",
        "colab_type": "code",
        "outputId": "bd240513-c740-4fe3-e723-f3059d27f59b",
        "colab": {
          "base_uri": "https://localhost:8080/",
          "height": 199
        }
      },
      "source": [
        "plt.imshow(val_score[(prediction == 0) & (y_val == 0)], norm=Normalize(0, 1, clip=True))"
      ],
      "execution_count": 99,
      "outputs": [
        {
          "output_type": "execute_result",
          "data": {
            "text/plain": [
              "<matplotlib.image.AxesImage at 0x7f9994c10c18>"
            ]
          },
          "metadata": {
            "tags": []
          },
          "execution_count": 99
        },
        {
          "output_type": "display_data",
          "data": {
            "image/png": "[encoded data removed]",
            "text/plain": [
              "<Figure size 432x288 with 1 Axes>"
            ]
          },
          "metadata": {
            "tags": []
          }
        }
      ]
    },
    {
      "cell_type": "markdown",
      "metadata": {
        "id": "1ft2NknehslX",
        "colab_type": "text"
      },
      "source": [
        "#### difference histograms"
      ]
    },
    {
      "cell_type": "code",
      "metadata": {
        "id": "2auFkFl8h2Mp",
        "colab_type": "code",
        "outputId": "0a17e918-855d-4903-83bf-81f7cc60c336",
        "colab": {
          "base_uri": "https://localhost:8080/",
          "height": 34
        }
      },
      "source": [
        "print(\"test score: [{}; {}]\".format(test_score.min(), test_score.max()))"
      ],
      "execution_count": 64,
      "outputs": [
        {
          "output_type": "stream",
          "text": [
            "test score: [-0.2260764424351479; 0.26339245919832344]\n"
          ],
          "name": "stdout"
        }
      ]
    },
    {
      "cell_type": "code",
      "metadata": {
        "id": "CvpefCl0i6ov",
        "colab_type": "code",
        "colab": {}
      },
      "source": [
        "def score_to_histograms(scores, bins=10, data_range=(-0.3, 0.3)):\n",
        "  result_histograms = np.zeros((len(scores), bins))\n",
        "\n",
        "  for i in range(len(scores)):\n",
        "    hist, bins = np.histogram(scores[i], bins=bins, range=data_range)\n",
        "    result_histograms[i] = hist\n",
        "  \n",
        "  return result_histograms"
      ],
      "execution_count": 0,
      "outputs": []
    },
    {
      "cell_type": "code",
      "metadata": {
        "id": "_re7lRTN3VXg",
        "colab_type": "code",
        "colab": {}
      },
      "source": [
        "test_histogram = score_to_histograms(test_score, bins=10, data_range=(-0.3, 0.3))\n",
        "val_histogram = score_to_histograms(val_score, bins=10, data_range=(-0.3, 0.3))"
      ],
      "execution_count": 0,
      "outputs": []
    },
    {
      "cell_type": "code",
      "metadata": {
        "id": "XL1alpbGixNg",
        "colab_type": "code",
        "outputId": "c14c97a2-29d2-4953-f61c-d9bb12d695dd",
        "colab": {
          "base_uri": "https://localhost:8080/",
          "height": 298
        }
      },
      "source": [
        "plt.title(\"normal histogram\")\n",
        "plt.bar(np.linspace(-0.5, 0.5, 10), test_histogram[y_test == 0][0])"
      ],
      "execution_count": 67,
      "outputs": [
        {
          "output_type": "execute_result",
          "data": {
            "text/plain": [
              "<BarContainer object of 10 artists>"
            ]
          },
          "metadata": {
            "tags": []
          },
          "execution_count": 67
        },
        {
          "output_type": "display_data",
          "data": {
            "image/png": "[encoded data removed]",
            "text/plain": [
              "<Figure size 432x288 with 1 Axes>"
            ]
          },
          "metadata": {
            "tags": []
          }
        }
      ]
    },
    {
      "cell_type": "code",
      "metadata": {
        "id": "Yu_31CFaoAxX",
        "colab_type": "code",
        "colab": {
          "base_uri": "https://localhost:8080/",
          "height": 298
        },
        "outputId": "0b9d6831-c7b2-4d8b-9efe-6d623441e9b1"
      },
      "source": [
        "plt.title(\"anomaly histogram\")\n",
        "plt.bar(np.linspace(-0.5, 0.5, 10), test_histogram[y_test == 1][0])"
      ],
      "execution_count": 68,
      "outputs": [
        {
          "output_type": "execute_result",
          "data": {
            "text/plain": [
              "<BarContainer object of 10 artists>"
            ]
          },
          "metadata": {
            "tags": []
          },
          "execution_count": 68
        },
        {
          "output_type": "display_data",
          "data": {
            "image/png": "[encoded data removed]",
            "text/plain": [
              "<Figure size 432x288 with 1 Axes>"
            ]
          },
          "metadata": {
            "tags": []
          }
        }
      ]
    },
    {
      "cell_type": "code",
      "metadata": {
        "id": "Mn2YHlqtjyRO",
        "colab_type": "code",
        "outputId": "c69903a7-6126-4d53-c6e0-ed455dda1dee",
        "colab": {
          "base_uri": "https://localhost:8080/",
          "height": 153
        }
      },
      "source": [
        "histogram_forest = RandomForestClassifier(n_estimators=10)\n",
        "histogram_forest.fit(test_histogram, y_test)"
      ],
      "execution_count": 69,
      "outputs": [
        {
          "output_type": "execute_result",
          "data": {
            "text/plain": [
              "RandomForestClassifier(bootstrap=True, ccp_alpha=0.0, class_weight=None,\n",
              "                       criterion='gini', max_depth=None, max_features='auto',\n",
              "                       max_leaf_nodes=None, max_samples=None,\n",
              "                       min_impurity_decrease=0.0, min_impurity_split=None,\n",
              "                       min_samples_leaf=1, min_samples_split=2,\n",
              "                       min_weight_fraction_leaf=0.0, n_estimators=10,\n",
              "                       n_jobs=None, oob_score=False, random_state=None,\n",
              "                       verbose=0, warm_start=False)"
            ]
          },
          "metadata": {
            "tags": []
          },
          "execution_count": 69
        }
      ]
    },
    {
      "cell_type": "code",
      "metadata": {
        "id": "ZdlcntROrozp",
        "colab_type": "code",
        "colab": {
          "base_uri": "https://localhost:8080/",
          "height": 170
        },
        "outputId": "4a732ca2-5a8b-46d6-f705-05f4a4c2afb3"
      },
      "source": [
        "val_prediction = histogram_forest.predict(val_histogram)\n",
        "print(val_prediction)"
      ],
      "execution_count": 70,
      "outputs": [
        {
          "output_type": "stream",
          "text": [
            "[0. 1. 0. 1. 1. 0. 1. 0. 1. 1. 1. 1. 1. 1. 1. 1. 1. 1. 1. 1. 1. 1. 0. 1.\n",
            " 0. 1. 1. 0. 1. 1. 1. 1. 1. 0. 1. 1. 1. 0. 1. 1. 1. 1. 1. 1. 1. 1. 1. 1.\n",
            " 1. 1. 0. 0. 1. 1. 1. 1. 1. 1. 0. 1. 1. 0. 1. 1. 1. 1. 1. 1. 0. 1. 1. 1.\n",
            " 0. 1. 1. 1. 0. 1. 0. 0. 1. 1. 1. 1. 1. 1. 1. 1. 1. 1. 1. 0. 1. 1. 1. 1.\n",
            " 0. 1. 1. 1. 0. 0. 0. 0. 0. 0. 0. 0. 0. 0. 0. 0. 0. 0. 0. 0. 0. 0. 0. 0.\n",
            " 0. 0. 0. 0. 0. 0. 0. 0. 0. 0. 0. 0. 0. 0. 0. 0. 0. 0. 0. 0. 0. 0. 0. 0.\n",
            " 0. 0. 0. 0. 0. 0. 0. 0. 0. 0. 0. 0. 0. 0. 0. 0. 0. 0. 0. 0. 0. 0. 0. 0.\n",
            " 0. 0. 0. 0. 0. 0. 0. 0. 0. 1. 0. 0. 0. 0. 0. 0. 0. 0. 0. 0. 0. 0. 0. 0.\n",
            " 0. 0. 0. 0. 0. 0. 0. 0.]\n"
          ],
          "name": "stdout"
        }
      ]
    },
    {
      "cell_type": "code",
      "metadata": {
        "id": "gzKYizIfkCiL",
        "colab_type": "code",
        "outputId": "fc0309cd-cc2d-4489-9dbb-46376775d0fe",
        "colab": {
          "base_uri": "https://localhost:8080/",
          "height": 170
        }
      },
      "source": [
        "print(classification_report(y_val, val_prediction))"
      ],
      "execution_count": 71,
      "outputs": [
        {
          "output_type": "stream",
          "text": [
            "              precision    recall  f1-score   support\n",
            "\n",
            "         0.0       0.83      0.99      0.90       100\n",
            "         1.0       0.99      0.80      0.88       100\n",
            "\n",
            "    accuracy                           0.90       200\n",
            "   macro avg       0.91      0.90      0.89       200\n",
            "weighted avg       0.91      0.90      0.89       200\n",
            "\n"
          ],
          "name": "stdout"
        }
      ]
    },
    {
      "cell_type": "code",
      "metadata": {
        "id": "RnwWaiehi_5y",
        "colab_type": "code",
        "colab": {}
      },
      "source": [
        ""
      ],
      "execution_count": 0,
      "outputs": []
    }
  ]
}